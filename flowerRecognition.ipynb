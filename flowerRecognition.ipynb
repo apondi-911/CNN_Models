{
  "nbformat": 4,
  "nbformat_minor": 0,
  "metadata": {
    "colab": {
      "provenance": [],
      "include_colab_link": true
    },
    "kernelspec": {
      "name": "python3",
      "display_name": "Python 3"
    },
    "language_info": {
      "name": "python"
    },
    "accelerator": "GPU",
    "gpuClass": "standard"
  },
  "cells": [
    {
      "cell_type": "markdown",
      "metadata": {
        "id": "view-in-github",
        "colab_type": "text"
      },
      "source": [
        "<a href=\"https://colab.research.google.com/github/apondi-911/CNN_Models/blob/main/flowerRecognition.ipynb\" target=\"_parent\"><img src=\"https://colab.research.google.com/assets/colab-badge.svg\" alt=\"Open In Colab\"/></a>"
      ]
    },
    {
      "cell_type": "code",
      "source": [
        "from google.colab import drive\n",
        "drive.mount('/content/drive')"
      ],
      "metadata": {
        "colab": {
          "base_uri": "https://localhost:8080/"
        },
        "id": "MEbW7ZAB3FZG",
        "outputId": "695cd9fa-c905-4063-bbd2-e00cd7b7a65b"
      },
      "execution_count": null,
      "outputs": [
        {
          "output_type": "stream",
          "name": "stdout",
          "text": [
            "Mounted at /content/drive\n"
          ]
        }
      ]
    },
    {
      "cell_type": "code",
      "source": [
        "import numpy as np\n",
        "import os\n",
        "import tensorflow as tf\n",
        "from keras.preprocessing.image import ImageDataGenerator\n",
        "import matplotlib.pyplot as plt\n",
        "from tensorflow.keras.models import Sequential\n",
        "from tensorflow.keras import layers, models\n",
        "from tensorflow.keras.layers import Conv2D, MaxPooling2D, Dense, Flatten,Dropout"
      ],
      "metadata": {
        "id": "deaDCoYbbvHG"
      },
      "execution_count": null,
      "outputs": []
    },
    {
      "cell_type": "code",
      "source": [
        "data_dir='/content/drive/MyDrive/flower-dataset'\n",
        "os.listdir(data_dir)"
      ],
      "metadata": {
        "id": "6Hel7YPlb-JI",
        "colab": {
          "base_uri": "https://localhost:8080/"
        },
        "outputId": "70738c7c-4c0b-4587-9521-d1ad16297d3e"
      },
      "execution_count": null,
      "outputs": [
        {
          "output_type": "execute_result",
          "data": {
            "text/plain": [
              "['validation', 'train', 'Original', 'test']"
            ]
          },
          "metadata": {},
          "execution_count": 4
        }
      ]
    },
    {
      "cell_type": "markdown",
      "source": [
        "## Split Data\n"
      ],
      "metadata": {
        "id": "QFuM2fnecjxs"
      }
    },
    {
      "cell_type": "code",
      "source": [
        "TRAIN_DIR='/content/drive/MyDrive/flower-dataset/train'\n",
        "TEST_DIR='/content/drive/MyDrive/flower-dataset/test'\n",
        "VAL_DIR='/content/drive/MyDrive/flower-dataset/validation'"
      ],
      "metadata": {
        "id": "TDg9eK-Ebwzq"
      },
      "execution_count": null,
      "outputs": []
    },
    {
      "cell_type": "markdown",
      "source": [
        "## Augmentation and Data Preparation\n"
      ],
      "metadata": {
        "id": "5XO0GvR7c1Ki"
      }
    },
    {
      "cell_type": "code",
      "source": [
        "train_datagen = ImageDataGenerator(\n",
        "                    rescale = 1. / 255,\n",
        "                    shear_range = 0.2,\n",
        "                    zoom_range=0.2 ,\n",
        "                    horizontal_flip=True)\n",
        "train_set = train_datagen.flow_from_directory(TRAIN_DIR, target_size=(224,224), batch_size=32 , class_mode='categorical')\n"
      ],
      "metadata": {
        "id": "Dxt7KLkhc0Dm",
        "colab": {
          "base_uri": "https://localhost:8080/"
        },
        "outputId": "e5315650-5973-4fe7-c29e-a0bb9e2147d0"
      },
      "execution_count": null,
      "outputs": [
        {
          "output_type": "stream",
          "name": "stdout",
          "text": [
            "Found 3540 images belonging to 5 classes.\n"
          ]
        }
      ]
    },
    {
      "cell_type": "code",
      "source": [
        "\n",
        "val_datagen = ImageDataGenerator(rescale = 1. / 255)\n",
        "\n",
        "val_set = val_datagen.flow_from_directory(VAL_DIR, target_size=(224,224), batch_size=32 , class_mode='categorical')\n"
      ],
      "metadata": {
        "id": "igUjE-d4dD26",
        "colab": {
          "base_uri": "https://localhost:8080/"
        },
        "outputId": "a9258115-b15a-4a92-af4d-a36191df7812"
      },
      "execution_count": null,
      "outputs": [
        {
          "output_type": "stream",
          "name": "stdout",
          "text": [
            "Found 80 images belonging to 5 classes.\n"
          ]
        }
      ]
    },
    {
      "cell_type": "markdown",
      "source": [
        "## Build the Model"
      ],
      "metadata": {
        "id": "LDR0QtANdIZS"
      }
    },
    {
      "cell_type": "code",
      "source": [
        "model = tf.keras.models.Sequential()\n",
        "model.add(tf.keras.layers.Conv2D(filters=32 , kernel_size = (5,5) , padding='Same', activation='relu', input_shape=[224,224,3])  )\n",
        "model.add(tf.keras.layers.MaxPool2D(pool_size=(2,2), strides=(2,2) ))\n",
        "\n",
        "model.add(tf.keras.layers.Conv2D(filters=64 , kernel_size = (5,5) , padding='Same', activation='relu'  ))\n",
        "model.add(tf.keras.layers.MaxPool2D(pool_size=(2,2), strides=(2,2) ))\n",
        "model.add(tf.keras.layers.Dropout(0.5))\n",
        "\n",
        "model.add(tf.keras.layers.Conv2D(filters=96 , kernel_size = (5,5) , padding='Same', activation='relu'  ))\n",
        "model.add(tf.keras.layers.MaxPool2D(pool_size=(2,2), strides=(2,2) ))\n",
        "model.add(tf.keras.layers.Dropout(0.5))\n",
        "\n",
        "model.add(tf.keras.layers.Conv2D(filters=96 , kernel_size = (5,5) , padding='Same', activation='relu'  ))\n",
        "model.add(tf.keras.layers.MaxPool2D(pool_size=(2,2), strides=(2,2) ))\n",
        "model.add(tf.keras.layers.Dropout(0.5))\n",
        "\n",
        "#Flatten before the Dense layer\n",
        "\n",
        "model.add(tf.keras.layers.Flatten())\n",
        "\n",
        "model.add(tf.keras.layers.Dense (units=512 , activation='relu'))\n",
        "\n",
        "# the last layer\n",
        "model.add(tf.keras.layers.Dense(units=5 , activation='softmax'))\n"
      ],
      "metadata": {
        "id": "_Q3H6vMXdHKH"
      },
      "execution_count": null,
      "outputs": []
    },
    {
      "cell_type": "code",
      "source": [
        "model.summary()"
      ],
      "metadata": {
        "id": "jQ0wmUR_dR-V",
        "colab": {
          "base_uri": "https://localhost:8080/"
        },
        "outputId": "547467d3-82e3-4cbf-b7ac-97912277020d"
      },
      "execution_count": null,
      "outputs": [
        {
          "output_type": "stream",
          "name": "stdout",
          "text": [
            "Model: \"sequential\"\n",
            "_________________________________________________________________\n",
            " Layer (type)                Output Shape              Param #   \n",
            "=================================================================\n",
            " conv2d (Conv2D)             (None, 224, 224, 32)      2432      \n",
            "                                                                 \n",
            " max_pooling2d (MaxPooling2D  (None, 112, 112, 32)     0         \n",
            " )                                                               \n",
            "                                                                 \n",
            " conv2d_1 (Conv2D)           (None, 112, 112, 64)      51264     \n",
            "                                                                 \n",
            " max_pooling2d_1 (MaxPooling  (None, 56, 56, 64)       0         \n",
            " 2D)                                                             \n",
            "                                                                 \n",
            " dropout (Dropout)           (None, 56, 56, 64)        0         \n",
            "                                                                 \n",
            " conv2d_2 (Conv2D)           (None, 56, 56, 96)        153696    \n",
            "                                                                 \n",
            " max_pooling2d_2 (MaxPooling  (None, 28, 28, 96)       0         \n",
            " 2D)                                                             \n",
            "                                                                 \n",
            " dropout_1 (Dropout)         (None, 28, 28, 96)        0         \n",
            "                                                                 \n",
            " conv2d_3 (Conv2D)           (None, 28, 28, 96)        230496    \n",
            "                                                                 \n",
            " max_pooling2d_3 (MaxPooling  (None, 14, 14, 96)       0         \n",
            " 2D)                                                             \n",
            "                                                                 \n",
            " dropout_2 (Dropout)         (None, 14, 14, 96)        0         \n",
            "                                                                 \n",
            " flatten (Flatten)           (None, 18816)             0         \n",
            "                                                                 \n",
            " dense (Dense)               (None, 512)               9634304   \n",
            "                                                                 \n",
            " dense_1 (Dense)             (None, 5)                 2565      \n",
            "                                                                 \n",
            "=================================================================\n",
            "Total params: 10,074,757\n",
            "Trainable params: 10,074,757\n",
            "Non-trainable params: 0\n",
            "_________________________________________________________________\n"
          ]
        }
      ]
    },
    {
      "cell_type": "code",
      "source": [
        "model.compile(optimizer='rmsprop' , loss='categorical_crossentropy' , metrics=['accuracy']   )"
      ],
      "metadata": {
        "id": "SBK5laj1dV1Z"
      },
      "execution_count": null,
      "outputs": []
    },
    {
      "cell_type": "code",
      "source": [
        "history = model.fit (x=train_set, validation_data=val_set, batch_size=32 , epochs=20)\n"
      ],
      "metadata": {
        "id": "XtDY-8R9dbAB",
        "colab": {
          "base_uri": "https://localhost:8080/"
        },
        "outputId": "9f62f944-df8c-496c-d6af-7731dad1251c"
      },
      "execution_count": null,
      "outputs": [
        {
          "output_type": "stream",
          "name": "stdout",
          "text": [
            "Epoch 1/20\n",
            "111/111 [==============================] - 494s 4s/step - loss: 1.5684 - accuracy: 0.3147 - val_loss: 1.2140 - val_accuracy: 0.5000\n",
            "Epoch 2/20\n",
            "111/111 [==============================] - 56s 508ms/step - loss: 1.2536 - accuracy: 0.4960 - val_loss: 0.9998 - val_accuracy: 0.5875\n",
            "Epoch 3/20\n",
            "111/111 [==============================] - 56s 508ms/step - loss: 1.0934 - accuracy: 0.5726 - val_loss: 0.8732 - val_accuracy: 0.6375\n",
            "Epoch 4/20\n",
            "111/111 [==============================] - 56s 506ms/step - loss: 0.9829 - accuracy: 0.6206 - val_loss: 0.9952 - val_accuracy: 0.6250\n",
            "Epoch 5/20\n",
            "111/111 [==============================] - 57s 510ms/step - loss: 0.9504 - accuracy: 0.6472 - val_loss: 0.7794 - val_accuracy: 0.7125\n",
            "Epoch 6/20\n",
            "111/111 [==============================] - 57s 513ms/step - loss: 0.8920 - accuracy: 0.6621 - val_loss: 0.8451 - val_accuracy: 0.6500\n",
            "Epoch 7/20\n",
            "111/111 [==============================] - 57s 515ms/step - loss: 0.8347 - accuracy: 0.6842 - val_loss: 0.8406 - val_accuracy: 0.7125\n",
            "Epoch 8/20\n",
            "111/111 [==============================] - 57s 510ms/step - loss: 0.8090 - accuracy: 0.6997 - val_loss: 0.8640 - val_accuracy: 0.6250\n",
            "Epoch 9/20\n",
            "111/111 [==============================] - 56s 504ms/step - loss: 0.7651 - accuracy: 0.7124 - val_loss: 0.8431 - val_accuracy: 0.7000\n",
            "Epoch 10/20\n",
            "111/111 [==============================] - 56s 504ms/step - loss: 0.7371 - accuracy: 0.7257 - val_loss: 0.8687 - val_accuracy: 0.6625\n",
            "Epoch 11/20\n",
            "111/111 [==============================] - 56s 506ms/step - loss: 0.7343 - accuracy: 0.7226 - val_loss: 0.6468 - val_accuracy: 0.7375\n",
            "Epoch 12/20\n",
            "111/111 [==============================] - 56s 503ms/step - loss: 0.6846 - accuracy: 0.7438 - val_loss: 0.8122 - val_accuracy: 0.7500\n",
            "Epoch 13/20\n",
            "111/111 [==============================] - 56s 507ms/step - loss: 0.6739 - accuracy: 0.7619 - val_loss: 0.9346 - val_accuracy: 0.7000\n",
            "Epoch 14/20\n",
            "111/111 [==============================] - 56s 501ms/step - loss: 0.6609 - accuracy: 0.7658 - val_loss: 0.7052 - val_accuracy: 0.7000\n",
            "Epoch 15/20\n",
            "111/111 [==============================] - 56s 502ms/step - loss: 0.6103 - accuracy: 0.7715 - val_loss: 0.6971 - val_accuracy: 0.7375\n",
            "Epoch 16/20\n",
            "111/111 [==============================] - 56s 505ms/step - loss: 0.6101 - accuracy: 0.7712 - val_loss: 0.9165 - val_accuracy: 0.7000\n",
            "Epoch 17/20\n",
            "111/111 [==============================] - 56s 505ms/step - loss: 0.5890 - accuracy: 0.7799 - val_loss: 0.5735 - val_accuracy: 0.7625\n",
            "Epoch 18/20\n",
            "111/111 [==============================] - 56s 503ms/step - loss: 0.5893 - accuracy: 0.7825 - val_loss: 0.7212 - val_accuracy: 0.7500\n",
            "Epoch 19/20\n",
            "111/111 [==============================] - 56s 499ms/step - loss: 0.5396 - accuracy: 0.8042 - val_loss: 0.8227 - val_accuracy: 0.6875\n",
            "Epoch 20/20\n",
            "111/111 [==============================] - 55s 495ms/step - loss: 0.5539 - accuracy: 0.7924 - val_loss: 0.5845 - val_accuracy: 0.7750\n"
          ]
        }
      ]
    },
    {
      "cell_type": "code",
      "source": [
        "acc = history.history['accuracy']\n",
        "val_acc = history.history['val_accuracy']\n",
        "\n",
        "loss = history.history['loss']\n",
        "val_loss = history.history['val_loss']"
      ],
      "metadata": {
        "id": "2a2HgxF2ddfI"
      },
      "execution_count": null,
      "outputs": []
    },
    {
      "cell_type": "code",
      "source": [
        "acc"
      ],
      "metadata": {
        "id": "9qARlzkXdoET",
        "colab": {
          "base_uri": "https://localhost:8080/"
        },
        "outputId": "c6f60b36-c5dd-4df4-93b8-1c4fd14b2524"
      },
      "execution_count": null,
      "outputs": [
        {
          "output_type": "execute_result",
          "data": {
            "text/plain": [
              "[0.3146892786026001,\n",
              " 0.49604520201683044,\n",
              " 0.5725988745689392,\n",
              " 0.6206214427947998,\n",
              " 0.647175133228302,\n",
              " 0.6621468663215637,\n",
              " 0.6841807961463928,\n",
              " 0.6997175216674805,\n",
              " 0.712429404258728,\n",
              " 0.7257062196731567,\n",
              " 0.7225988507270813,\n",
              " 0.7437853217124939,\n",
              " 0.761864423751831,\n",
              " 0.7658191919326782,\n",
              " 0.7714689373970032,\n",
              " 0.7711864113807678,\n",
              " 0.7799435257911682,\n",
              " 0.7824859023094177,\n",
              " 0.8042373061180115,\n",
              " 0.7923728823661804]"
            ]
          },
          "metadata": {},
          "execution_count": 14
        }
      ]
    },
    {
      "cell_type": "code",
      "source": [
        "val_acc"
      ],
      "metadata": {
        "id": "g51z0a2sdoa3",
        "colab": {
          "base_uri": "https://localhost:8080/"
        },
        "outputId": "bf61cf18-be7d-4ea8-df11-2b50479a0a4d"
      },
      "execution_count": null,
      "outputs": [
        {
          "output_type": "execute_result",
          "data": {
            "text/plain": [
              "[0.5,\n",
              " 0.5874999761581421,\n",
              " 0.637499988079071,\n",
              " 0.625,\n",
              " 0.7124999761581421,\n",
              " 0.6499999761581421,\n",
              " 0.7124999761581421,\n",
              " 0.625,\n",
              " 0.699999988079071,\n",
              " 0.6625000238418579,\n",
              " 0.737500011920929,\n",
              " 0.75,\n",
              " 0.699999988079071,\n",
              " 0.699999988079071,\n",
              " 0.737500011920929,\n",
              " 0.699999988079071,\n",
              " 0.762499988079071,\n",
              " 0.75,\n",
              " 0.6875,\n",
              " 0.7749999761581421]"
            ]
          },
          "metadata": {},
          "execution_count": 15
        }
      ]
    },
    {
      "cell_type": "markdown",
      "source": [
        "## Plot"
      ],
      "metadata": {
        "id": "f5Y_qmCydvIG"
      }
    },
    {
      "cell_type": "code",
      "source": [
        "\n",
        "epochs_range = range(20) # creating a sequence of number from 0 to 20\n",
        "\n",
        "plt.figure(figsize=(8,8))\n",
        "\n",
        "plt.subplot(1,2,1)\n",
        "plt.plot(epochs_range, acc, label = \"Training Accuracy\")\n",
        "plt.plot(epochs_range, val_acc, label = \"Validation Accuracy\")\n",
        "plt.legend(loc='lower right')\n",
        "plt.title('Training and validation Accuracy')\n",
        "\n",
        "plt.subplot(1,2,2)\n",
        "plt.plot(epochs_range, loss ,label = \"Training Loss\")\n",
        "plt.plot(epochs_range, val_loss, label = \"Validation Loss\")\n",
        "plt.legend(loc='upper right')\n",
        "plt.title('Training and validation Loss')\n",
        "\n",
        "plt.show()\n"
      ],
      "metadata": {
        "id": "aGOBzS27dtoW",
        "colab": {
          "base_uri": "https://localhost:8080/",
          "height": 699
        },
        "outputId": "cc5da32b-4e4f-47d4-d3d3-addf6c28f2c5"
      },
      "execution_count": null,
      "outputs": [
        {
          "output_type": "display_data",
          "data": {
            "text/plain": [
              "<Figure size 800x800 with 2 Axes>"
            ],
            "image/png": "[encoded data removed]"
          },
          "metadata": {}
        }
      ]
    },
    {
      "cell_type": "code",
      "source": [
        "model.save('/content/drive/MyDrive/flower_model/flower.h5')"
      ],
      "metadata": {
        "id": "mODwh6V4d5XK"
      },
      "execution_count": null,
      "outputs": []
    }
  ]
}